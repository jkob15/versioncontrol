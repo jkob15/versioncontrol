{
 "cells": [
  {
   "cell_type": "code",
   "execution_count": null,
   "id": "def3329d-4e89-4fa3-ac18-7c6b96834cc7",
   "metadata": {},
   "outputs": [],
   "source": [
    "choice = input(\"Type 'banana' or 'apple': \").strip().lower()\n",
    "\n",
    "# Check the input and print accordingly\n",
    "if choice == \"banana\":\n",
    "    print(\"You chose banana!\")\n",
    "elif choice == \"apple\":\n",
    "    print(\"You chose apple!\")\n",
    "else:\n",
    "    print(\"Invalid choice. Please type 'banana' or 'apple'.\")\n"
   ]
  }
 ],
 "metadata": {
  "kernelspec": {
   "display_name": "Python 3 (ipykernel)",
   "language": "python",
   "name": "python3"
  },
  "language_info": {
   "codemirror_mode": {
    "name": "ipython",
    "version": 3
   },
   "file_extension": ".py",
   "mimetype": "text/x-python",
   "name": "python",
   "nbconvert_exporter": "python",
   "pygments_lexer": "ipython3",
   "version": "3.12.4"
  }
 },
 "nbformat": 4,
 "nbformat_minor": 5
}
