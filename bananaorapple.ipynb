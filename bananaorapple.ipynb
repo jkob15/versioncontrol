{
 "cells": [
  {
   "cell_type": "code",
   "execution_count": 2,
   "id": "11a1af35-733b-4405-b2a0-dd3ee0a63a3c",
   "metadata": {},
   "outputs": [
    {
     "name": "stdin",
     "output_type": "stream",
     "text": [
      "Type 'banana' or 'apple':  banana\n"
     ]
    },
    {
     "name": "stdout",
     "output_type": "stream",
     "text": [
      "You chose banana!\n"
     ]
    }
   ],
   "source": [
    "\n",
    "choice = input(\"Type 'banana' or 'apple': \").strip().lower()\n",
    "\n",
    "# Check the input and print accordingly\n",
    "if choice == \"banana\":\n",
    "    print(\"You chose banana!\")\n",
    "elif choice == \"apple\":\n",
    "    print(\"You chose apple!\")\n",
    "else:\n",
    "    print(\"Invalid choice. Please type 'banana' or 'apple'.\")\n"
   ]
  },
  {
   "cell_type": "code",
   "execution_count": null,
   "id": "3e806ecc-57b5-46b4-857d-ec11fbed5b24",
   "metadata": {},
   "outputs": [],
   "source": []
  }
 ],
 "metadata": {
  "kernelspec": {
   "display_name": "Python 3 (ipykernel)",
   "language": "python",
   "name": "python3"
  },
  "language_info": {
   "codemirror_mode": {
    "name": "ipython",
    "version": 3
   },
   "file_extension": ".py",
   "mimetype": "text/x-python",
   "name": "python",
   "nbconvert_exporter": "python",
   "pygments_lexer": "ipython3",
   "version": "3.12.4"
  }
 },
 "nbformat": 4,
 "nbformat_minor": 5
}
